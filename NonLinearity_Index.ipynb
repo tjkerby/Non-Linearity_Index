{
 "cells": [
  {
   "cell_type": "markdown",
   "id": "former-spell",
   "metadata": {},
   "source": [
    "# Non-Linearity Index\n",
    "## Author: Tom Kerby\n",
    "## Date updated: November 2021\n",
    "___\n",
    "This function takes a look at the get_nonlinearity_indexic dimension of a data set and compares that number of pca components for variance explained. If the value is close to 1 it means that the data is very linear, and if it is closer to 0 then it is very nonlinear."
   ]
  },
  {
   "cell_type": "code",
   "execution_count": 13,
   "id": "developmental-filling",
   "metadata": {},
   "outputs": [],
   "source": [
    "import skdim\n",
    "import numpy as np\n",
    "from sklearn.decomposition import PCA\n",
    "\n",
    "def get_nonlinearity_index(data):\n",
    "    int_dim = skdim.id.TwoNN().fit(data)\n",
    "    pca = PCA(n_components=int(np.floor(int_dim.dimension_)))\n",
    "    pca.fit(data)\n",
    "    return sum(pca.explained_variance_ratio_)"
   ]
  },
  {
   "cell_type": "code",
   "execution_count": 14,
   "id": "several-center",
   "metadata": {},
   "outputs": [
    {
     "data": {
      "text/plain": [
       "0.5566058383867205"
      ]
     },
     "execution_count": 14,
     "metadata": {},
     "output_type": "execute_result"
    }
   ],
   "source": [
    "from keras.datasets import mnist\n",
    "\n",
    "(train_X, train_y), (test_X, test_y) = mnist.load_data()\n",
    "test_X = test_X.reshape(10000,784)\n",
    "get_nonlinearity_index(test_X)"
   ]
  },
  {
   "cell_type": "code",
   "execution_count": 15,
   "id": "banned-arbitration",
   "metadata": {},
   "outputs": [
    {
     "data": {
      "text/plain": [
       "0.7588318658094958"
      ]
     },
     "execution_count": 15,
     "metadata": {},
     "output_type": "execute_result"
    }
   ],
   "source": [
    "import tensorflow as tf\n",
    "\n",
    "(train_X, train_y), (test_X, test_y) = tf.keras.datasets.fashion_mnist.load_data()\n",
    "test_X = test_X.reshape(10000,784)\n",
    "get_nonlinearity_index(test_X)"
   ]
  },
  {
   "cell_type": "code",
   "execution_count": 16,
   "id": "conventional-foundation",
   "metadata": {},
   "outputs": [
    {
     "data": {
      "text/plain": [
       "0.3108437654271855"
      ]
     },
     "execution_count": 16,
     "metadata": {},
     "output_type": "execute_result"
    }
   ],
   "source": [
    "data = np.zeros((10000,1000))\n",
    "data[:,:1000] = skdim.datasets.hyperBall(n = 10000, d = 1000, radius = 1, random_state = 0)\n",
    "get_nonlinearity_index(data)"
   ]
  },
  {
   "cell_type": "code",
   "execution_count": 17,
   "id": "metallic-reading",
   "metadata": {},
   "outputs": [
    {
     "data": {
      "text/plain": [
       "0.7592734981253877"
      ]
     },
     "execution_count": 17,
     "metadata": {},
     "output_type": "execute_result"
    }
   ],
   "source": [
    "data = skdim.datasets.swissRoll3Sph(n_swiss=4000,n_sphere=2000, h=2, random_state = 0)\n",
    "get_nonlinearity_index(data)"
   ]
  }
 ],
 "metadata": {
  "kernelspec": {
   "display_name": "Python 3",
   "language": "python",
   "name": "python3"
  },
  "language_info": {
   "codemirror_mode": {
    "name": "ipython",
    "version": 3
   },
   "file_extension": ".py",
   "mimetype": "text/x-python",
   "name": "python",
   "nbconvert_exporter": "python",
   "pygments_lexer": "ipython3",
   "version": "3.7.10"
  }
 },
 "nbformat": 4,
 "nbformat_minor": 5
}
